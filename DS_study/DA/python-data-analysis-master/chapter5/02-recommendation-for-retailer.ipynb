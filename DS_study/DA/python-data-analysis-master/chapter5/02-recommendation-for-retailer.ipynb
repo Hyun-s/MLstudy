{
 "cells": [
  {
   "cell_type": "markdown",
   "metadata": {},
   "source": [
    "Copyright (c) 2019 [윤기태]\n",
    "\n",
    "https://github.com/yoonkt200/python-data-analysis\n",
    "\n",
    "[MIT License](https://github.com/yoonkt200/python-data-analysis/blob/master/LICENSE.txt)"
   ]
  },
  {
   "cell_type": "markdown",
   "metadata": {},
   "source": [
    "# (가제) 파이썬 데이터 분석"
   ]
  },
  {
   "cell_type": "markdown",
   "metadata": {},
   "source": [
    "-----"
   ]
  },
  {
   "cell_type": "markdown",
   "metadata": {},
   "source": [
    "# 5.2) 구매 기록 기반 상품 추천하기"
   ]
  },
  {
   "cell_type": "markdown",
   "metadata": {},
   "source": [
    "### 바로가기"
   ]
  },
  {
   "cell_type": "markdown",
   "metadata": {},
   "source": [
    "- [<Step1. 탐색적 분석> : UK Retail 데이터 분석하기](#<Step1.-탐색적-분석>-:-UK-Retail-데이터-분석하기)\n",
    "    - [UK Retail 데이터셋의 기본 정보]\n",
    "    - [탐색적 데이터 분석]\n",
    "- [<Step2. 예측 분석> : SVD를 활용한 상품 구매 예측](#<Step2.-예측-분석>-:-SVD를-활용한-상품-구매-예측)\n",
    "    - [피처 엔지니어링]\n",
    "    - [SVD 모델 학습하기]\n",
    "- [<Step3. 예측 평가하기> : 상품 추천 시뮬레이션](#<Step3.-예측-평가하기>-:-상품-추천-시뮬레이션)\n",
    "    - [상품 추천 시뮬레이션]\n",
    "    - [상품 추천 평가하기]"
   ]
  },
  {
   "cell_type": "markdown",
   "metadata": {},
   "source": [
    "-----"
   ]
  },
  {
   "cell_type": "code",
   "execution_count": 1,
   "metadata": {},
   "outputs": [],
   "source": [
    "# -*- coding: utf-8 -*-\n",
    "\n",
    "%matplotlib inline\n",
    "\n",
    "import pandas as pd\n",
    "import numpy as np\n",
    "import matplotlib.pyplot as plt\n",
    "\n",
    "import warnings\n",
    "warnings.filterwarnings(\"ignore\")"
   ]
  },
  {
   "cell_type": "markdown",
   "metadata": {},
   "source": [
    "# <Step1. 탐색적 분석> : UK Retail 데이터 분석하기"
   ]
  },
  {
   "cell_type": "markdown",
   "metadata": {},
   "source": [
    "### [UK Retail 데이터셋의 기본 정보]"
   ]
  },
  {
   "cell_type": "markdown",
   "metadata": {},
   "source": [
    "##### 데이터 피처 설명\n",
    "- InvoiceNo : 거래 고유 번호\n",
    "- StockCode : 상품 고유 번호\n",
    "- Description : 상품명\n",
    "- Quantity : 거래 수량\n",
    "- InvoiceDate : 거래 일시\n",
    "- UnitPrice : 상품 단가\n",
    "- CustomerID : 구매자 고유 번호\n",
    "- Country : 구매 국가"
   ]
  },
  {
   "cell_type": "markdown",
   "metadata": {},
   "source": [
    "-----"
   ]
  },
  {
   "cell_type": "markdown",
   "metadata": {},
   "source": [
    "##### 데이터 살펴보기"
   ]
  },
  {
   "cell_type": "code",
   "execution_count": 2,
   "metadata": {},
   "outputs": [],
   "source": [
    "# 영국 선물샵 온라인 도매 거래 데이터\n",
    "df = pd.read_csv(\"../data/online_retail.csv\", dtype={'CustomerID': str,'InvoiceID': str}, encoding=\"ISO-8859-1\")\n",
    "df['InvoiceDate'] = pd.to_datetime(df['InvoiceDate'], format=\"%m/%d/%Y %H:%M\")"
   ]
  },
  {
   "cell_type": "code",
   "execution_count": 3,
   "metadata": {},
   "outputs": [
    {
     "name": "stdout",
     "output_type": "stream",
     "text": [
      "<class 'pandas.core.frame.DataFrame'>\n",
      "RangeIndex: 541909 entries, 0 to 541908\n",
      "Data columns (total 8 columns):\n",
      "InvoiceNo      541909 non-null object\n",
      "StockCode      541909 non-null object\n",
      "Description    540455 non-null object\n",
      "Quantity       541909 non-null int64\n",
      "InvoiceDate    541909 non-null datetime64[ns]\n",
      "UnitPrice      541909 non-null float64\n",
      "CustomerID     406829 non-null object\n",
      "Country        541909 non-null object\n",
      "dtypes: datetime64[ns](1), float64(1), int64(1), object(5)\n",
      "memory usage: 33.1+ MB\n",
      "None\n"
     ]
    },
    {
     "data": {
      "text/html": [
       "<div>\n",
       "<style scoped>\n",
       "    .dataframe tbody tr th:only-of-type {\n",
       "        vertical-align: middle;\n",
       "    }\n",
       "\n",
       "    .dataframe tbody tr th {\n",
       "        vertical-align: top;\n",
       "    }\n",
       "\n",
       "    .dataframe thead th {\n",
       "        text-align: right;\n",
       "    }\n",
       "</style>\n",
       "<table border=\"1\" class=\"dataframe\">\n",
       "  <thead>\n",
       "    <tr style=\"text-align: right;\">\n",
       "      <th></th>\n",
       "      <th>InvoiceNo</th>\n",
       "      <th>StockCode</th>\n",
       "      <th>Description</th>\n",
       "      <th>Quantity</th>\n",
       "      <th>InvoiceDate</th>\n",
       "      <th>UnitPrice</th>\n",
       "      <th>CustomerID</th>\n",
       "      <th>Country</th>\n",
       "    </tr>\n",
       "  </thead>\n",
       "  <tbody>\n",
       "    <tr>\n",
       "      <th>0</th>\n",
       "      <td>536365</td>\n",
       "      <td>85123A</td>\n",
       "      <td>WHITE HANGING HEART T-LIGHT HOLDER</td>\n",
       "      <td>6</td>\n",
       "      <td>2010-12-01 08:26:00</td>\n",
       "      <td>2.55</td>\n",
       "      <td>17850</td>\n",
       "      <td>United Kingdom</td>\n",
       "    </tr>\n",
       "    <tr>\n",
       "      <th>1</th>\n",
       "      <td>536365</td>\n",
       "      <td>71053</td>\n",
       "      <td>WHITE METAL LANTERN</td>\n",
       "      <td>6</td>\n",
       "      <td>2010-12-01 08:26:00</td>\n",
       "      <td>3.39</td>\n",
       "      <td>17850</td>\n",
       "      <td>United Kingdom</td>\n",
       "    </tr>\n",
       "    <tr>\n",
       "      <th>2</th>\n",
       "      <td>536365</td>\n",
       "      <td>84406B</td>\n",
       "      <td>CREAM CUPID HEARTS COAT HANGER</td>\n",
       "      <td>8</td>\n",
       "      <td>2010-12-01 08:26:00</td>\n",
       "      <td>2.75</td>\n",
       "      <td>17850</td>\n",
       "      <td>United Kingdom</td>\n",
       "    </tr>\n",
       "    <tr>\n",
       "      <th>3</th>\n",
       "      <td>536365</td>\n",
       "      <td>84029G</td>\n",
       "      <td>KNITTED UNION FLAG HOT WATER BOTTLE</td>\n",
       "      <td>6</td>\n",
       "      <td>2010-12-01 08:26:00</td>\n",
       "      <td>3.39</td>\n",
       "      <td>17850</td>\n",
       "      <td>United Kingdom</td>\n",
       "    </tr>\n",
       "    <tr>\n",
       "      <th>4</th>\n",
       "      <td>536365</td>\n",
       "      <td>84029E</td>\n",
       "      <td>RED WOOLLY HOTTIE WHITE HEART.</td>\n",
       "      <td>6</td>\n",
       "      <td>2010-12-01 08:26:00</td>\n",
       "      <td>3.39</td>\n",
       "      <td>17850</td>\n",
       "      <td>United Kingdom</td>\n",
       "    </tr>\n",
       "  </tbody>\n",
       "</table>\n",
       "</div>"
      ],
      "text/plain": [
       "  InvoiceNo StockCode                          Description  Quantity  \\\n",
       "0    536365    85123A   WHITE HANGING HEART T-LIGHT HOLDER         6   \n",
       "1    536365     71053                  WHITE METAL LANTERN         6   \n",
       "2    536365    84406B       CREAM CUPID HEARTS COAT HANGER         8   \n",
       "3    536365    84029G  KNITTED UNION FLAG HOT WATER BOTTLE         6   \n",
       "4    536365    84029E       RED WOOLLY HOTTIE WHITE HEART.         6   \n",
       "\n",
       "          InvoiceDate  UnitPrice CustomerID         Country  \n",
       "0 2010-12-01 08:26:00       2.55      17850  United Kingdom  \n",
       "1 2010-12-01 08:26:00       3.39      17850  United Kingdom  \n",
       "2 2010-12-01 08:26:00       2.75      17850  United Kingdom  \n",
       "3 2010-12-01 08:26:00       3.39      17850  United Kingdom  \n",
       "4 2010-12-01 08:26:00       3.39      17850  United Kingdom  "
      ]
     },
     "execution_count": 3,
     "metadata": {},
     "output_type": "execute_result"
    }
   ],
   "source": [
    "print(df.info())\n",
    "df.head()"
   ]
  },
  {
   "cell_type": "markdown",
   "metadata": {},
   "source": [
    "-----"
   ]
  },
  {
   "cell_type": "markdown",
   "metadata": {},
   "source": [
    "##### 결측 데이터 제거"
   ]
  },
  {
   "cell_type": "code",
   "execution_count": 4,
   "metadata": {},
   "outputs": [
    {
     "data": {
      "text/plain": [
       "InvoiceNo           0\n",
       "StockCode           0\n",
       "Description      1454\n",
       "Quantity            0\n",
       "InvoiceDate         0\n",
       "UnitPrice           0\n",
       "CustomerID     135080\n",
       "Country             0\n",
       "dtype: int64"
      ]
     },
     "execution_count": 4,
     "metadata": {},
     "output_type": "execute_result"
    }
   ],
   "source": [
    "df.isnull().sum()"
   ]
  },
  {
   "cell_type": "code",
   "execution_count": 5,
   "metadata": {},
   "outputs": [
    {
     "name": "stdout",
     "output_type": "stream",
     "text": [
      "(541909, 8)\n",
      "(406829, 8)\n"
     ]
    }
   ],
   "source": [
    "print(df.shape)\n",
    "df = df.dropna()\n",
    "print(df.shape)"
   ]
  },
  {
   "cell_type": "markdown",
   "metadata": {},
   "source": [
    "-----"
   ]
  },
  {
   "cell_type": "markdown",
   "metadata": {},
   "source": [
    "##### 탐색 데이터의 조건 필터링"
   ]
  },
  {
   "cell_type": "code",
   "execution_count": 6,
   "metadata": {},
   "outputs": [
    {
     "name": "stdout",
     "output_type": "stream",
     "text": [
      "8905\n"
     ]
    }
   ],
   "source": [
    "# 상품수량이 음수인 경우를 제거합니다.\n",
    "print(df[df['Quantity']<=0].shape[0])\n",
    "df = df[df['Quantity']>0]"
   ]
  },
  {
   "cell_type": "code",
   "execution_count": 7,
   "metadata": {},
   "outputs": [
    {
     "name": "stdout",
     "output_type": "stream",
     "text": [
      "40\n"
     ]
    }
   ],
   "source": [
    "# 상품 가격이 0 이하인 경우를 제거합니다.\n",
    "print(df[df['UnitPrice']<=0].shape[0])\n",
    "df = df[df['UnitPrice']>0]"
   ]
  },
  {
   "cell_type": "code",
   "execution_count": 8,
   "metadata": {},
   "outputs": [
    {
     "data": {
      "text/plain": [
       "0         85123A\n",
       "1          71053\n",
       "2         84406B\n",
       "3         84029G\n",
       "4         84029E\n",
       "5          22752\n",
       "6          21730\n",
       "7          22633\n",
       "8          22632\n",
       "9          84879\n",
       "10         22745\n",
       "11         22748\n",
       "12         22749\n",
       "13         22310\n",
       "14         84969\n",
       "15         22623\n",
       "16         22622\n",
       "17         21754\n",
       "18         21755\n",
       "19         21777\n",
       "20         48187\n",
       "21         22960\n",
       "22         22913\n",
       "23         22912\n",
       "24         22914\n",
       "25         21756\n",
       "26         22728\n",
       "27         22727\n",
       "28         22726\n",
       "29         21724\n",
       "           ...  \n",
       "541879     22726\n",
       "541880     22727\n",
       "541881     16016\n",
       "541882     21916\n",
       "541883     84692\n",
       "541884     84946\n",
       "541885     21684\n",
       "541886     22398\n",
       "541887     23328\n",
       "541888     23145\n",
       "541889     22466\n",
       "541890     22061\n",
       "541891     23275\n",
       "541892     21217\n",
       "541893     20685\n",
       "541894     22631\n",
       "541895     22556\n",
       "541896     22555\n",
       "541897     22728\n",
       "541898     22727\n",
       "541899     22726\n",
       "541900     22730\n",
       "541901     22367\n",
       "541902     22629\n",
       "541903     23256\n",
       "541904     22613\n",
       "541905     22899\n",
       "541906     23254\n",
       "541907     23255\n",
       "541908     22138\n",
       "Name: StockCode, Length: 397884, dtype: object"
      ]
     },
     "execution_count": 8,
     "metadata": {},
     "output_type": "execute_result"
    }
   ],
   "source": [
    "df['StockCode']"
   ]
  },
  {
   "cell_type": "code",
   "execution_count": 9,
   "metadata": {},
   "outputs": [
    {
     "name": "stdout",
     "output_type": "stream",
     "text": [
      "1414\n"
     ]
    },
    {
     "data": {
      "text/html": [
       "<div>\n",
       "<style scoped>\n",
       "    .dataframe tbody tr th:only-of-type {\n",
       "        vertical-align: middle;\n",
       "    }\n",
       "\n",
       "    .dataframe tbody tr th {\n",
       "        vertical-align: top;\n",
       "    }\n",
       "\n",
       "    .dataframe thead th {\n",
       "        text-align: right;\n",
       "    }\n",
       "</style>\n",
       "<table border=\"1\" class=\"dataframe\">\n",
       "  <thead>\n",
       "    <tr style=\"text-align: right;\">\n",
       "      <th></th>\n",
       "      <th>InvoiceNo</th>\n",
       "      <th>StockCode</th>\n",
       "      <th>Description</th>\n",
       "      <th>Quantity</th>\n",
       "      <th>InvoiceDate</th>\n",
       "      <th>UnitPrice</th>\n",
       "      <th>CustomerID</th>\n",
       "      <th>Country</th>\n",
       "      <th>ContainDigit</th>\n",
       "    </tr>\n",
       "  </thead>\n",
       "  <tbody>\n",
       "    <tr>\n",
       "      <th>45</th>\n",
       "      <td>536370</td>\n",
       "      <td>POST</td>\n",
       "      <td>POSTAGE</td>\n",
       "      <td>3</td>\n",
       "      <td>2010-12-01 08:45:00</td>\n",
       "      <td>18.00</td>\n",
       "      <td>12583</td>\n",
       "      <td>France</td>\n",
       "      <td>False</td>\n",
       "    </tr>\n",
       "    <tr>\n",
       "      <th>386</th>\n",
       "      <td>536403</td>\n",
       "      <td>POST</td>\n",
       "      <td>POSTAGE</td>\n",
       "      <td>1</td>\n",
       "      <td>2010-12-01 11:27:00</td>\n",
       "      <td>15.00</td>\n",
       "      <td>12791</td>\n",
       "      <td>Netherlands</td>\n",
       "      <td>False</td>\n",
       "    </tr>\n",
       "    <tr>\n",
       "      <th>1123</th>\n",
       "      <td>536527</td>\n",
       "      <td>POST</td>\n",
       "      <td>POSTAGE</td>\n",
       "      <td>1</td>\n",
       "      <td>2010-12-01 13:04:00</td>\n",
       "      <td>18.00</td>\n",
       "      <td>12662</td>\n",
       "      <td>Germany</td>\n",
       "      <td>False</td>\n",
       "    </tr>\n",
       "    <tr>\n",
       "      <th>2239</th>\n",
       "      <td>536569</td>\n",
       "      <td>M</td>\n",
       "      <td>Manual</td>\n",
       "      <td>1</td>\n",
       "      <td>2010-12-01 15:35:00</td>\n",
       "      <td>1.25</td>\n",
       "      <td>16274</td>\n",
       "      <td>United Kingdom</td>\n",
       "      <td>False</td>\n",
       "    </tr>\n",
       "    <tr>\n",
       "      <th>2250</th>\n",
       "      <td>536569</td>\n",
       "      <td>M</td>\n",
       "      <td>Manual</td>\n",
       "      <td>1</td>\n",
       "      <td>2010-12-01 15:35:00</td>\n",
       "      <td>18.95</td>\n",
       "      <td>16274</td>\n",
       "      <td>United Kingdom</td>\n",
       "      <td>False</td>\n",
       "    </tr>\n",
       "  </tbody>\n",
       "</table>\n",
       "</div>"
      ],
      "text/plain": [
       "     InvoiceNo StockCode Description  Quantity         InvoiceDate  UnitPrice  \\\n",
       "45      536370      POST     POSTAGE         3 2010-12-01 08:45:00      18.00   \n",
       "386     536403      POST     POSTAGE         1 2010-12-01 11:27:00      15.00   \n",
       "1123    536527      POST     POSTAGE         1 2010-12-01 13:04:00      18.00   \n",
       "2239    536569         M      Manual         1 2010-12-01 15:35:00       1.25   \n",
       "2250    536569         M      Manual         1 2010-12-01 15:35:00      18.95   \n",
       "\n",
       "     CustomerID         Country  ContainDigit  \n",
       "45        12583          France         False  \n",
       "386       12791     Netherlands         False  \n",
       "1123      12662         Germany         False  \n",
       "2239      16274  United Kingdom         False  \n",
       "2250      16274  United Kingdom         False  "
      ]
     },
     "execution_count": 9,
     "metadata": {},
     "output_type": "execute_result"
    }
   ],
   "source": [
    "# 상품 코드가 일반적이지 않은 경우를 탐색합니다.\n",
    "df['ContainDigit'] = df['StockCode'].apply(lambda x: any(c.isdigit() for c in x)) ## stockcode에 숫자 아닌값이 있으면 False인 column\n",
    "print(df[df['ContainDigit'] == False].shape[0]) #False 개수\n",
    "df[df['ContainDigit'] == False].head() #False.head"
   ]
  },
  {
   "cell_type": "code",
   "execution_count": 10,
   "metadata": {},
   "outputs": [],
   "source": [
    "# 상품 코드가 일반적이지 않은 경우를 제거합니다.\n",
    "df = df[df['ContainDigit'] == True] #ContainDigit 이 False 제거"
   ]
  },
  {
   "cell_type": "markdown",
   "metadata": {},
   "source": [
    "-----"
   ]
  },
  {
   "cell_type": "markdown",
   "metadata": {},
   "source": [
    "### [탐색적 데이터 분석]"
   ]
  },
  {
   "cell_type": "markdown",
   "metadata": {},
   "source": [
    "##### 일자별 거래 데이터 분석"
   ]
  },
  {
   "cell_type": "code",
   "execution_count": 12,
   "metadata": {},
   "outputs": [
    {
     "name": "stdout",
     "output_type": "stream",
     "text": [
      "<class 'datetime.date'>\n",
      "2011-12-09\n"
     ]
    }
   ],
   "source": [
    "# 거래 데이터에서 가장 오래된 데이터와 가장 최신의 데이터를 탐색합니다.\n",
    "df['date'] = df['InvoiceDate'].dt.date\n",
    "print(type(df['date'].min())  # date class min 가능\n",
    "print(df['date'].max())"
   ]
  },
  {
   "cell_type": "code",
   "execution_count": 11,
   "metadata": {},
   "outputs": [
    {
     "data": {
      "text/plain": [
       "<matplotlib.axes._subplots.AxesSubplot at 0x2592fda6da0>"
      ]
     },
     "execution_count": 11,
     "metadata": {},
     "output_type": "execute_result"
    },
    {
     "data": {
      "image/png": "[encoded data removed]",
      "text/plain": [
       "<Figure size 432x288 with 1 Axes>"
      ]
     },
     "metadata": {
      "needs_background": "light"
     },
     "output_type": "display_data"
    }
   ],
   "source": [
    "# 일자별 총 거래 수량을 탐색합니다.\n",
    "date_quantity_series = df.groupby('date')['Quantity'].sum()\n",
    "date_quantity_series.plot()"
   ]
  },
  {
   "cell_type": "code",
   "execution_count": 12,
   "metadata": {},
   "outputs": [
    {
     "data": {
      "text/plain": [
       "<matplotlib.axes._subplots.AxesSubplot at 0x25935079a58>"
      ]
     },
     "execution_count": 12,
     "metadata": {},
     "output_type": "execute_result"
    },
    {
     "data": {
      "image/png": "[encoded data removed]",
      "text/plain": [
       "<Figure size 432x288 with 1 Axes>"
      ]
     },
     "metadata": {
      "needs_background": "light"
     },
     "output_type": "display_data"
    }
   ],
   "source": [
    "# 일자별 총 거래 횟수를 탐색합니다.\n",
    "date_transaction_series = df.groupby('date')['InvoiceNo'].nunique()\n",
    "date_transaction_series.plot()"
   ]
  },
  {
   "cell_type": "code",
   "execution_count": 13,
   "metadata": {},
   "outputs": [
    {
     "data": {
      "text/plain": [
       "<matplotlib.axes._subplots.AxesSubplot at 0x259350de438>"
      ]
     },
     "execution_count": 13,
     "metadata": {},
     "output_type": "execute_result"
    },
    {
     "data": {
      "image/png": "[encoded data removed]",
      "text/plain": [
       "<Figure size 432x288 with 1 Axes>"
      ]
     },
     "metadata": {
      "needs_background": "light"
     },
     "output_type": "display_data"
    }
   ],
   "source": [
    "# 일자별 거래된 상품의 unique한 갯수, 즉 상품 거래 다양성을 탐색합니다.\n",
    "date_unique_item_series = df.groupby('date')['StockCode'].nunique()\n",
    "date_unique_item_series.plot()"
   ]
  },
  {
   "cell_type": "markdown",
   "metadata": {},
   "source": [
    "-----"
   ]
  },
  {
   "cell_type": "markdown",
   "metadata": {},
   "source": [
    "##### 유저별 구매 패턴 분석"
   ]
  },
  {
   "cell_type": "code",
   "execution_count": 14,
   "metadata": {},
   "outputs": [
    {
     "name": "stdout",
     "output_type": "stream",
     "text": [
      "4334\n"
     ]
    }
   ],
   "source": [
    "# 총 유저의 수를 계산하여 출력합니다.\n",
    "print(len(df['CustomerID'].unique()))"
   ]
  },
  {
   "cell_type": "code",
   "execution_count": 15,
   "metadata": {},
   "outputs": [
    {
     "data": {
      "text/plain": [
       "count    4334.000000\n",
       "mean        4.246654\n",
       "std         7.642535\n",
       "min         1.000000\n",
       "25%         1.000000\n",
       "50%         2.000000\n",
       "75%         5.000000\n",
       "max       206.000000\n",
       "Name: InvoiceNo, dtype: float64"
      ]
     },
     "execution_count": 15,
     "metadata": {},
     "output_type": "execute_result"
    }
   ],
   "source": [
    "# 유저별 거래 횟수를 탐색합니다.\n",
    "customer_unique_transaction_series = df.groupby('CustomerID')['InvoiceNo'].nunique()\n",
    "customer_unique_transaction_series.describe()"
   ]
  },
  {
   "cell_type": "code",
   "execution_count": 16,
   "metadata": {},
   "outputs": [
    {
     "data": {
      "image/png": "[encoded data removed]",
      "text/plain": [
       "<Figure size 432x288 with 1 Axes>"
      ]
     },
     "metadata": {
      "needs_background": "light"
     },
     "output_type": "display_data"
    }
   ],
   "source": [
    "# 상자 그림 시각화로 살펴봅니다.\n",
    "plt.boxplot(customer_unique_transaction_series.values)\n",
    "plt.show()"
   ]
  },
  {
   "cell_type": "code",
   "execution_count": 17,
   "metadata": {},
   "outputs": [
    {
     "data": {
      "text/plain": [
       "count    4334.000000\n",
       "mean       61.432856\n",
       "std        85.312937\n",
       "min         1.000000\n",
       "25%        16.000000\n",
       "50%        35.000000\n",
       "75%        77.000000\n",
       "max      1786.000000\n",
       "Name: StockCode, dtype: float64"
      ]
     },
     "execution_count": 17,
     "metadata": {},
     "output_type": "execute_result"
    }
   ],
   "source": [
    "# 유저별 아이템 구매 종류 개수를 탐색합니다.\n",
    "customer_unique_item_series = df.groupby('CustomerID')['StockCode'].nunique()\n",
    "customer_unique_item_series.describe()"
   ]
  },
  {
   "cell_type": "code",
   "execution_count": 18,
   "metadata": {},
   "outputs": [
    {
     "data": {
      "image/png": "[encoded data removed]",
      "text/plain": [
       "<Figure size 432x288 with 1 Axes>"
      ]
     },
     "metadata": {
      "needs_background": "light"
     },
     "output_type": "display_data"
    }
   ],
   "source": [
    "# 상자 그림 시각화로 살펴봅니다.\n",
    "plt.boxplot(customer_unique_item_series.values)\n",
    "plt.show()"
   ]
  },
  {
   "cell_type": "markdown",
   "metadata": {},
   "source": [
    "-----"
   ]
  },
  {
   "cell_type": "markdown",
   "metadata": {},
   "source": [
    "### `[미니 퀴즈 - 5.2]`\n",
    "- `이번에는 유저가 아닌 상품을 기준으로 EDA를 실시해 보세요.` \n",
    "    - 아래의 내용들을 탐색적으로 분석해보도록 합시다.\n",
    "        - 총 상품 갯수\n",
    "        - 가장 거래가 많은 상품 top 10 탐색\n",
    "        - 상품별 판매수량 분포 탐색\n",
    "        - 거래별 가격 탐색"
   ]
  },
  {
   "cell_type": "code",
   "execution_count": 19,
   "metadata": {},
   "outputs": [
    {
     "name": "stdout",
     "output_type": "stream",
     "text": [
      "3660\n"
     ]
    }
   ],
   "source": [
    "# 총 상품 갯수를 탐색합니다.\n",
    "print(len(df['StockCode'].unique()))"
   ]
  },
  {
   "cell_type": "markdown",
   "metadata": {},
   "source": [
    "-----"
   ]
  },
  {
   "cell_type": "code",
   "execution_count": 20,
   "metadata": {},
   "outputs": [
    {
     "data": {
      "text/plain": [
       "StockCode\n",
       "85123A    1978\n",
       "22423     1703\n",
       "85099B    1600\n",
       "47566     1379\n",
       "84879     1375\n",
       "20725     1289\n",
       "22720     1146\n",
       "23203     1080\n",
       "20727     1052\n",
       "22383     1043\n",
       "Name: InvoiceNo, dtype: int64"
      ]
     },
     "execution_count": 20,
     "metadata": {},
     "output_type": "execute_result"
    }
   ],
   "source": [
    "# 가장 거래가 많은 상품 top 10 탐색\n",
    "df.groupby('StockCode')['InvoiceNo'].nunique().sort_values(ascending=False)[:10]"
   ]
  },
  {
   "cell_type": "markdown",
   "metadata": {},
   "source": [
    "-----"
   ]
  },
  {
   "cell_type": "code",
   "execution_count": 21,
   "metadata": {},
   "outputs": [
    {
     "name": "stdout",
     "output_type": "stream",
     "text": [
      "count     3660.000000\n",
      "mean      1409.149727\n",
      "std       3513.654056\n",
      "min          1.000000\n",
      "25%         65.000000\n",
      "50%        395.000000\n",
      "75%       1417.500000\n",
      "max      80995.000000\n",
      "Name: Quantity, dtype: float64\n"
     ]
    },
    {
     "data": {
      "image/png": "[encoded data removed]",
      "text/plain": [
       "<Figure size 432x288 with 1 Axes>"
      ]
     },
     "metadata": {
      "needs_background": "light"
     },
     "output_type": "display_data"
    }
   ],
   "source": [
    "# 상품별 판매수량 분포를 탐색합니다.\n",
    "print(df.groupby('StockCode')['Quantity'].sum().describe())\n",
    "plt.plot(df.groupby('StockCode')['Quantity'].sum().values)\n",
    "plt.show()"
   ]
  },
  {
   "cell_type": "code",
   "execution_count": 22,
   "metadata": {},
   "outputs": [
    {
     "data": {
      "image/png": "[encoded data removed]",
      "text/plain": [
       "<Figure size 432x288 with 1 Axes>"
      ]
     },
     "metadata": {
      "needs_background": "light"
     },
     "output_type": "display_data"
    }
   ],
   "source": [
    "# 분포를 정렬하여 출력합니다.\n",
    "plt.plot(df.groupby('StockCode')['Quantity'].sum().sort_values(ascending=False).values)\n",
    "plt.show()"
   ]
  },
  {
   "cell_type": "markdown",
   "metadata": {},
   "source": [
    "-----"
   ]
  },
  {
   "cell_type": "code",
   "execution_count": 23,
   "metadata": {},
   "outputs": [
    {
     "data": {
      "text/plain": [
       "count     18405.000000\n",
       "mean        476.378845\n",
       "std        1678.749892\n",
       "min           0.380000\n",
       "25%         157.900000\n",
       "50%         302.360000\n",
       "75%         465.700000\n",
       "max      168469.600000\n",
       "Name: amount, dtype: float64"
      ]
     },
     "execution_count": 23,
     "metadata": {},
     "output_type": "execute_result"
    }
   ],
   "source": [
    "# 거래별로 발생한 가격에 대해 탐색합니다.\n",
    "df['amount'] = df['Quantity'] * df['UnitPrice']\n",
    "df.groupby('InvoiceNo')['amount'].sum().describe()"
   ]
  },
  {
   "cell_type": "code",
   "execution_count": 24,
   "metadata": {},
   "outputs": [
    {
     "data": {
      "image/png": "[encoded data removed]",
      "text/plain": [
       "<Figure size 432x288 with 1 Axes>"
      ]
     },
     "metadata": {
      "needs_background": "light"
     },
     "output_type": "display_data"
    }
   ],
   "source": [
    "# 거래별로 발생한 가격 분포를 탐색합니다.\n",
    "plt.plot(df.groupby('InvoiceNo')['amount'].sum().values)\n",
    "plt.show()"
   ]
  },
  {
   "cell_type": "code",
   "execution_count": 25,
   "metadata": {},
   "outputs": [
    {
     "data": {
      "image/png": "[encoded data removed]",
      "text/plain": [
       "<Figure size 432x288 with 1 Axes>"
      ]
     },
     "metadata": {
      "needs_background": "light"
     },
     "output_type": "display_data"
    }
   ],
   "source": [
    "# 분포를 정렬하여 출력합니다.\n",
    "plt.plot(df.groupby('InvoiceNo')['amount'].sum().sort_values(ascending=False).values)\n",
    "plt.show()"
   ]
  },
  {
   "cell_type": "markdown",
   "metadata": {},
   "source": [
    "-----"
   ]
  },
  {
   "cell_type": "markdown",
   "metadata": {},
   "source": [
    "##### 시계열 기준으로 데이터 분리"
   ]
  },
  {
   "cell_type": "code",
   "execution_count": null,
   "metadata": {},
   "outputs": [
    {
     "name": "stdout",
     "output_type": "stream",
     "text": [
      "(314902, 11)\n",
      "(81568, 11)\n"
     ]
    }
   ],
   "source": [
    "import datetime\n",
    "\n",
    "# 2011년 11월을 기준으로 하여, 기준 이전과 이후로 데이터를 분리합니다.\n",
    "df_year_round = df[df['date'] < datetime.date(2011, 11, 1)]\n",
    "df_year_end = df[df['date'] >= datetime.date(2011, 11, 1)]\n",
    "print(df_year_round.shape)\n",
    "print(df_year_end.shape)"
   ]
  },
  {
   "cell_type": "markdown",
   "metadata": {},
   "source": [
    "-----"
   ]
  },
  {
   "cell_type": "markdown",
   "metadata": {},
   "source": [
    "##### 분리된 데이터에서 구매 패턴 탐색 : 재구매, 신규구매 등의 여부"
   ]
  },
  {
   "cell_type": "code",
   "execution_count": null,
   "metadata": {},
   "outputs": [
    {
     "name": "stdout",
     "output_type": "stream",
     "text": [
      "CustomerID\n",
      "12346                                              {23166}\n",
      "12347    {23076, 21975, 85167B, 84992, 22772, 21171, 84...\n",
      "12348    {21967, 21213, 23076, 22952, 84992, 84991, 219...\n",
      "12350    {20652, 21832, 21171, 22348, 22620, 21864, 790...\n",
      "12352    {22780, 84050, 23198, 22138, 21754, 22634, 217...\n",
      "12353                         {37450, 37446, 37449, 22890}\n",
      "12354    {84997D, 20675, 22668, 23254, 22215, 21922, 22...\n",
      "12355    {72802C, 22423, 22699, 72802B, 22693, 22890, 2...\n",
      "12356    {22059, 22131, 21124, 22699, 21198, 22062, 224...\n",
      "12358    {22059, 48185, 21232, 20679, 22063, 37447, 374...\n",
      "12359    {22918, 22920, 22411, 22655, 23414, 21754, 229...\n",
      "12360    {20686, 20677, 23008, 20713, 22571, 22274, 849...\n",
      "12361    {22328, 22631, 22326, 22382, 20725, 22629, 225...\n",
      "12362    {20914, 22110, 21918, 22405, 22491, 21829, 206...\n",
      "12363    {21124, 23234, 21213, 48116, 21122, 22952, 206...\n",
      "12364    {21124, 22029, 22668, 22620, 21213, 21122, 213...\n",
      "12365    {22478, 22699, 84884A, 22698, 84987, 72807A, 2...\n",
      "12370    {84568, 22154, 22766, 21031, 20653, 20961, 211...\n",
      "12371    {85035C, 23158, 22632, 22181, 22123, 85034C, 8...\n",
      "12372    {22539, 21577, 23244, 22138, 22538, 16161U, 22...\n",
      "12373    {20719, 22328, 22326, 20726, 20724, 22356, 207...\n",
      "12375    {84997D, 20719, 22355, 22356, 84997C, 21929, 2...\n",
      "12377    {84997D, 22029, 84050, 22539, 84997C, 22538, 2...\n",
      "12378    {22074, 84568, 22334, 84792, 22254, 22435, 206...\n",
      "12379    {23238, 21080, 84997B, 23206, 22631, 22659, 22...\n",
      "12380    {22385, 85099F, 84997D, 22355, 22668, 23254, 2...\n",
      "12381    {16169E, 21251, 23319, 23198, 22634, 22492, 22...\n",
      "12383    {21124, 20973, 21918, 22539, 22080, 79000, 224...\n",
      "12384    {23295, 22328, 22423, 22326, 84279P, 22628, 22...\n",
      "12386    {22915, 22953, 22495, 22557, 22926, 21906, 225...\n",
      "                               ...                        \n",
      "18240       {20679, 16008, 85015, 15056BL, 15056P, 15056N}\n",
      "18241    {21174, 22736, 22668, 21918, 23424, 22952, 217...\n",
      "18242    {23028, 22699, 23167, 22698, 22411, 84879, 226...\n",
      "18245    {22918, 22920, 22046, 21448, 22969, 22706, 229...\n",
      "18246                                       {71053, 22087}\n",
      "18248    {22480, 22927, 23091, 22138, 84926E, 21868, 84...\n",
      "18250    {22907, 85062, 22492, 22961, 22844, 22852, 851...\n",
      "18251    {22950, 23378, 22096, 21213, 21977, 22909, 212...\n",
      "18252    {21124, 23414, 84913A, 20839, 85036A, 21114, 2...\n",
      "18255          {85123A, 84755, 84949, 21535, 84946, 23088}\n",
      "18257    {20914, 22411, 22969, 23206, 23342, 23389, 232...\n",
      "18259    {22632, 22633, 22470, 23012, 23356, 22114, 228...\n",
      "18260    {84792, 84992, 21974, 22294, 21258, 23245, 219...\n",
      "18261    {22751, 22147, 22488, 22565, 22734, 22144, 209...\n",
      "18262    {23295, 47559B, 20971, 21213, 23293, 21401, 20...\n",
      "18263    {22615, 85111, 22092, 20615, 21891, 22652, 851...\n",
      "18265    {20914, 21537, 23401, 85059, 23414, 84879, 234...\n",
      "18268                                             {84968A}\n",
      "18269    {22837, 22418, 22450, 21731, 22617, 22451, 22449}\n",
      "18270                 {22980, 84968C, 21320, 21316, 84978}\n",
      "18272    {20914, 23167, 22969, 84993A, 21394, 22963, 18...\n",
      "18273                                             {79302M}\n",
      "18276    {22360, 23401, 23241, 23348, 23076, 22565, 234...\n",
      "18277    {20724, 23099, 20679, 84879, 22578, 23323, 150...\n",
      "18278    {20914, 22596, 23404, 23355, 23301, 22595, 227...\n",
      "18280    {22084, 22467, 22358, 22495, 82484, 22499, 227...\n",
      "18281    {22467, 23007, 22716, 22037, 23209, 22028, 23008}\n",
      "18282    {23295, 22424, 21108, 23187, 21270, 21109, 22089}\n",
      "18283    {21319, 22736, 20973, 22620, 23196, 23510, 224...\n",
      "18287    {22065, 22755, 21382, 84584, 21014, 21819, 230...\n",
      "Name: StockCode, Length: 3970, dtype: object\n"
     ]
    }
   ],
   "source": [
    "# 11월 이전 데이터에서 구매했던 상품의 set을 추출합니다.\n",
    "customer_item_round_set = df_year_round.groupby('CustomerID')['StockCode'].apply(set)\n",
    "print(customer_item_round_set)"
   ]
  },
  {
   "cell_type": "code",
   "execution_count": null,
   "metadata": {},
   "outputs": [
    {
     "name": "stdout",
     "output_type": "stream",
     "text": [
      "{'12346': {'23166': 'old'}, '12347': {'23076': 'old', '21975': 'old', '85167B': 'old', '84992': 'old...\n"
     ]
    }
   ],
   "source": [
    "# 11월 이전에 구매했는지 혹은 이후에 구매했는지를 유저별로 기록하기 위한 사전을 정의합니다.\n",
    "customer_item_dict = {}\n",
    "\n",
    "# 11월 이전에 구매한 상품은 'old'라고 표기합니다.\n",
    "for customer_id, stocks in customer_item_round_set.items():\n",
    "    customer_item_dict[customer_id] = {}\n",
    "    for stock_code in stocks:\n",
    "        customer_item_dict[customer_id][stock_code] = 'old'\n",
    "\n",
    "print(str(customer_item_dict)[:100] + \"...\")"
   ]
  },
  {
   "cell_type": "code",
   "execution_count": null,
   "metadata": {},
   "outputs": [
    {
     "name": "stdout",
     "output_type": "stream",
     "text": [
      "CustomerID\n",
      "12347    {20719, 23552, 21064, 84625A, 21265, 23508, 23...\n",
      "12349    {20914, 23497, 22131, 22059, 23112, 23460, 231...\n",
      "12352    {22627, 23367, 22668, 23559, 22635, 23368, 230...\n",
      "12356                                       {21843, 22423}\n",
      "12357    {22632, 23196, 22969, 20677, 22025, 23178, 850...\n",
      "12358       {22059, 20679, 22646, 15056BL, 15056P, 15056N}\n",
      "12362    {84997D, 23254, 23244, 22816, 23319, 23238, 23...\n",
      "12364    {22907, 22046, 22706, 16161U, 21499, 21197, 21...\n",
      "12367    {85227, 22631, 21579, 21576, 16237, 22629, 227...\n",
      "12374    {46775D, 22734, 22735, 84992, 21788, 22955, 22...\n",
      "12375                 {20712, 23200, 21930, 85099C, 23203}\n",
      "12380    {22504, 22467, 22668, 22326, 22628, 22329, 234...\n",
      "12381    {22423, 22945, 22941, 21976, 23480, 23293, 224...\n",
      "12384    {85099F, 22632, 22366, 22622, 23480, 21430, 22...\n",
      "12388    {22340, 22338, 22910, 22576, 22580, 22669, 226...\n",
      "12391    {23196, 22435, 51014A, 20677, 22210, 23008, 21...\n",
      "12395    {22029, 22507, 23390, 23487, 21975, 22899, 226...\n",
      "12397    {23517, 22907, 23291, 23510, 22558, 23198, 233...\n",
      "12406    {84997D, 21509, 22615, 21967, 22348, 23510, 22...\n",
      "12408    {20668, 22549, 23379, 23206, 23346, 22898, 233...\n",
      "12415    {23497, 22131, 21068, 22132, 23206, 84992, 226...\n",
      "12417    {22959, 21499, 23173, 22423, 23241, 22666, 235...\n",
      "12421    {23234, 21108, 22307, 23311, 23267, 47567B, 23...\n",
      "12423    {79190B, 22915, 71459, 22632, 22356, 20724, 23...\n",
      "12427                  {84598, 23348, 22634, 21328, 23084}\n",
      "12428    {22385, 23581, 22386, 22192, 23480, 20712, 233...\n",
      "12429    {79191C, 35471D, 22398, 22726, 82582, 22727, 8...\n",
      "12431                                              {23084}\n",
      "12433    {22670, 16016, 23167, 22693, 23002, 23198, 722...\n",
      "12437    {21972, 21124, 22029, 22693, 22668, 21213, 224...\n",
      "                               ...                        \n",
      "18181    {84792, 21868, 21891, 85014A, 21892, 23342, 22...\n",
      "18184                                              {15036}\n",
      "18188    {84997D, 22851, 22909, 84997C, 23357, 21790, 8...\n",
      "18198    {22670, 22920, 23144, 22918, 21718, 23321, 229...\n",
      "18205    {23328, 22131, 23406, 23402, 22171, 22134, 229...\n",
      "18209    {23356, 20652, 22632, 21576, 21867, 84029G, 85...\n",
      "18210    {23058, 21819, 20724, 22138, 22969, 21810, 232...\n",
      "18211                                {22465, 22457, 22178}\n",
      "18216    {22907, 82494L, 22969, 22627, 22169, 23456, 85...\n",
      "18217    {23295, 21108, 23293, 21218, 85232D, 22722, 22...\n",
      "18219    {71053, 23485, 21745, 21754, 16161P, 84879, 21...\n",
      "18221    {22423, 84988, 21382, 22115, 22093, 22092, 849...\n",
      "18223    {23189, 21174, 23158, 82600, 21137, 22734, 226...\n",
      "18225    {22385, 85099F, 22912, 22083, 23560, 22952, 22...\n",
      "18229    {23209, 22844, 22193, 23208, 22727, 23430, 228...\n",
      "18230    {21174, 21175, 21864, 82581, 21790, 82001S, 21...\n",
      "18236           {22217, 22593, 84946, 79321, 23322, 23323}\n",
      "18237    {21672, 21673, 23035, 23298, 23088, 22773, 227...\n",
      "18241                  {21174, 23560, 21181, 22952, 23493}\n",
      "18245    {23234, 22186, 16169E, 23575, 23319, 22138, 22...\n",
      "18246                                       {22087, 21340}\n",
      "18249    {21108, 22609, 23480, 23084, 23473, 22608, 214...\n",
      "18259    {21479, 22632, 22112, 23439, 22633, 23355, 214...\n",
      "18263    {23571, 22066, 23583, 23581, 23370, 20979, 475...\n",
      "18270           {22791, 23145, 23042, 23041, 23045, 23323}\n",
      "18272    {20914, 22074, 23198, 22969, 72799E, 22961, 23...\n",
      "18273                                             {79302M}\n",
      "18274    {22423, 84988, 21108, 21974, 23243, 84509A, 22...\n",
      "18282                  {22423, 22699, 22818, 23174, 23175}\n",
      "18283    {22736, 23510, 22411, 23551, 22952, 21986, 219...\n",
      "Name: StockCode, Length: 1904, dtype: object\n"
     ]
    }
   ],
   "source": [
    "# 11월 이후 데이터에서 구매하는 상품의 set을 추출합니다.\n",
    "customer_item_end_set = df_year_end.groupby('CustomerID')['StockCode'].apply(set)\n",
    "print(customer_item_end_set)"
   ]
  },
  {
   "cell_type": "code",
   "execution_count": null,
   "metadata": {},
   "outputs": [
    {
     "name": "stdout",
     "output_type": "stream",
     "text": [
      "{'12346': {'23166': 'old'}, '12347': {'23076': 'old', '21975': 'old', '85167B': 'old', '84992': 'old...\n"
     ]
    }
   ],
   "source": [
    "# 11월 이전에만 구매한 상품은 'old', 이후에만 구매한 상품은 'new', 모두 구매한 상품은 'both'라고 표기합니다.\n",
    "\n",
    "for customer_id, stocks in customer_item_end_set.items():\n",
    "    # 11월 이전 구매기록이 있는 유저인지를 체크합니다.\n",
    "    if customer_id in customer_item_dict:\n",
    "        for stock_code in stocks:\n",
    "            # 구매한 적 있는 상품인지를 체크한 뒤, 상태를 표기합니다.\n",
    "            if stock_code in customer_item_dict[customer_id]:\n",
    "                customer_item_dict[customer_id][stock_code] = 'both'\n",
    "            else:\n",
    "                customer_item_dict[customer_id][stock_code] = 'new'\n",
    "    \n",
    "    # 11월 이전 구매기록이 없는 유저라면 모두 'new'로 표기합니다.\n",
    "    else:\n",
    "        customer_item_dict[customer_id] = {}\n",
    "        for stock_code in stocks:\n",
    "            customer_item_dict[customer_id][stock_code] = 'new'\n",
    "\n",
    "print(str(customer_item_dict)[:100] + \"...\")"
   ]
  },
  {
   "cell_type": "code",
   "execution_count": null,
   "metadata": {},
   "outputs": [
    {
     "data": {
      "text/html": [
       "<div>\n",
       "<style scoped>\n",
       "    .dataframe tbody tr th:only-of-type {\n",
       "        vertical-align: middle;\n",
       "    }\n",
       "\n",
       "    .dataframe tbody tr th {\n",
       "        vertical-align: top;\n",
       "    }\n",
       "\n",
       "    .dataframe thead th {\n",
       "        text-align: right;\n",
       "    }\n",
       "</style>\n",
       "<table border=\"1\" class=\"dataframe\">\n",
       "  <thead>\n",
       "    <tr style=\"text-align: right;\">\n",
       "      <th></th>\n",
       "      <th>CustomerID</th>\n",
       "      <th>old</th>\n",
       "      <th>new</th>\n",
       "      <th>both</th>\n",
       "    </tr>\n",
       "  </thead>\n",
       "  <tbody>\n",
       "    <tr>\n",
       "      <th>0</th>\n",
       "      <td>12346</td>\n",
       "      <td>1</td>\n",
       "      <td>0</td>\n",
       "      <td>0</td>\n",
       "    </tr>\n",
       "    <tr>\n",
       "      <th>1</th>\n",
       "      <td>12347</td>\n",
       "      <td>92</td>\n",
       "      <td>3</td>\n",
       "      <td>8</td>\n",
       "    </tr>\n",
       "    <tr>\n",
       "      <th>2</th>\n",
       "      <td>12348</td>\n",
       "      <td>21</td>\n",
       "      <td>0</td>\n",
       "      <td>0</td>\n",
       "    </tr>\n",
       "    <tr>\n",
       "      <th>3</th>\n",
       "      <td>12350</td>\n",
       "      <td>16</td>\n",
       "      <td>0</td>\n",
       "      <td>0</td>\n",
       "    </tr>\n",
       "    <tr>\n",
       "      <th>4</th>\n",
       "      <td>12352</td>\n",
       "      <td>43</td>\n",
       "      <td>12</td>\n",
       "      <td>2</td>\n",
       "    </tr>\n",
       "  </tbody>\n",
       "</table>\n",
       "</div>"
      ],
      "text/plain": [
       "  CustomerID old new both\n",
       "0      12346   1   0    0\n",
       "1      12347  92   3    8\n",
       "2      12348  21   0    0\n",
       "3      12350  16   0    0\n",
       "4      12352  43  12    2"
      ]
     },
     "execution_count": 31,
     "metadata": {},
     "output_type": "execute_result"
    }
   ],
   "source": [
    "# 'old', 'new', 'both'를 유저별로 탐색하여 데이터 프레임을 생성합니다.\n",
    "columns = ['CustomerID', 'old', 'new', 'both']\n",
    "df_order_info = pd.DataFrame(columns=columns)\n",
    "\n",
    "# 데이터 프레임을 생성하는 과정입니다.\n",
    "for customer_id in customer_item_dict:\n",
    "    old = 0\n",
    "    new = 0\n",
    "    both = 0\n",
    "    \n",
    "    # 딕셔너리의 상품 상태(old, new, both)를 체크하여 데이터 프레임에 append 할 수 있는 형태로 처리합니다.\n",
    "    for stock_code in customer_item_dict[customer_id]:\n",
    "        status = customer_item_dict[customer_id][stock_code]\n",
    "        if status == 'old':\n",
    "            old += 1\n",
    "        elif status == 'new':\n",
    "            new += 1\n",
    "        else:\n",
    "            both += 1\n",
    "    \n",
    "    # df_order_info에 데이터를 append합니다.\n",
    "    row = [customer_id, old, new, both]\n",
    "    series = pd.Series(row, index=columns)\n",
    "    df_order_info = df_order_info.append(series, ignore_index=True)\n",
    "\n",
    "df_order_info.head()"
   ]
  },
  {
   "cell_type": "code",
   "execution_count": null,
   "metadata": {},
   "outputs": [
    {
     "name": "stdout",
     "output_type": "stream",
     "text": [
      "4334\n",
      "1446\n",
      "1426\n"
     ]
    }
   ],
   "source": [
    "# 데이터 프레임에서 전체 유저 수를 출력합니다.\n",
    "print(df_order_info.shape[0])\n",
    "\n",
    "# 데이터 프레임에서 old가 1 이상이면서, new가 1 이상인 유저 수를 출력합니다. \n",
    "# 11월 이후에 기존에 구매한적 없는 새로운 상품을 구매한 유저를 의미합니다.\n",
    "print(df_order_info[(df_order_info['old'] > 0) & (df_order_info['new'] > 0)].shape[0])\n",
    "\n",
    "# 데이터 프레임에서 both가 1 이상인 유저 수를 출력합니다. \n",
    "# 재구매한 상품이 있는 유저 수를 의미합니다.\n",
    "print(df_order_info[df_order_info['both'] > 0].shape[0])"
   ]
  },
  {
   "cell_type": "code",
   "execution_count": null,
   "metadata": {},
   "outputs": [
    {
     "data": {
      "text/plain": [
       "0      2521\n",
       "1        81\n",
       "3        73\n",
       "2        72\n",
       "8        65\n",
       "5        64\n",
       "7        64\n",
       "4        63\n",
       "11       61\n",
       "12       53\n",
       "6        52\n",
       "16       50\n",
       "15       49\n",
       "9        48\n",
       "13       48\n",
       "18       46\n",
       "14       44\n",
       "10       43\n",
       "19       39\n",
       "17       34\n",
       "21       33\n",
       "32       31\n",
       "26       31\n",
       "20       29\n",
       "24       28\n",
       "22       28\n",
       "25       26\n",
       "28       21\n",
       "27       19\n",
       "35       19\n",
       "       ... \n",
       "197       1\n",
       "131       1\n",
       "130       1\n",
       "203       1\n",
       "126       1\n",
       "124       1\n",
       "123       1\n",
       "98        1\n",
       "121       1\n",
       "118       1\n",
       "312       1\n",
       "63        1\n",
       "74        1\n",
       "77        1\n",
       "82        1\n",
       "87        1\n",
       "89        1\n",
       "90        1\n",
       "94        1\n",
       "95        1\n",
       "97        1\n",
       "99        1\n",
       "101       1\n",
       "102       1\n",
       "107       1\n",
       "108       1\n",
       "113       1\n",
       "115       1\n",
       "116       1\n",
       "391       1\n",
       "Name: new, Length: 133, dtype: int64"
      ]
     },
     "execution_count": 33,
     "metadata": {},
     "output_type": "execute_result"
    }
   ],
   "source": [
    "# new 피처의 value_counts를 출력하여, 새로운 상품을 얼마나 구매하는지 탐색합니다.\n",
    "df_order_info['new'].value_counts()"
   ]
  },
  {
   "cell_type": "code",
   "execution_count": null,
   "metadata": {},
   "outputs": [
    {
     "name": "stdout",
     "output_type": "stream",
     "text": [
      "count    132.000000\n",
      "mean      13.734848\n",
      "std       19.130672\n",
      "min        1.000000\n",
      "25%        1.000000\n",
      "50%        5.000000\n",
      "75%       16.000000\n",
      "max       81.000000\n",
      "Name: new, dtype: float64\n"
     ]
    }
   ],
   "source": [
    "# 만약 새로운 상품을 구매한다면, 얼마나 많은 종류의 새로운 상품을 구매하는지 탐색합니다.\n",
    "print(df_order_info['new'].value_counts()[1:].describe())"
   ]
  },
  {
   "cell_type": "markdown",
   "metadata": {},
   "source": [
    "-----"
   ]
  },
  {
   "cell_type": "markdown",
   "metadata": {},
   "source": [
    "# <Step2. 예측 분석> : SVD를 활용한 상품 구매 예측"
   ]
  },
  {
   "cell_type": "markdown",
   "metadata": {},
   "source": [
    "### [피처 엔지니어링]"
   ]
  },
  {
   "cell_type": "code",
   "execution_count": null,
   "metadata": {},
   "outputs": [
    {
     "name": "stdout",
     "output_type": "stream",
     "text": [
      "3970\n",
      "3608\n"
     ]
    }
   ],
   "source": [
    "# 추천 대상 데이터에 포함되는 유저와 상품의 갯수를 출력합니다.\n",
    "print(len(df_year_round['CustomerID'].unique()))\n",
    "print(len(df_year_round['StockCode'].unique()))"
   ]
  },
  {
   "cell_type": "markdown",
   "metadata": {},
   "source": [
    "-----"
   ]
  },
  {
   "cell_type": "markdown",
   "metadata": {},
   "source": [
    "##### SVD 모델에 사용할 데이터 : User-Item간의 Rating 데이터 생성 (U-I-R Matrix)"
   ]
  },
  {
   "cell_type": "code",
   "execution_count": null,
   "metadata": {},
   "outputs": [
    {
     "data": {
      "text/html": [
       "<div>\n",
       "<style scoped>\n",
       "    .dataframe tbody tr th:only-of-type {\n",
       "        vertical-align: middle;\n",
       "    }\n",
       "\n",
       "    .dataframe tbody tr th {\n",
       "        vertical-align: top;\n",
       "    }\n",
       "\n",
       "    .dataframe thead th {\n",
       "        text-align: right;\n",
       "    }\n",
       "</style>\n",
       "<table border=\"1\" class=\"dataframe\">\n",
       "  <thead>\n",
       "    <tr style=\"text-align: right;\">\n",
       "      <th></th>\n",
       "      <th>CustomerID</th>\n",
       "      <th>StockCode</th>\n",
       "      <th>InvoiceNo</th>\n",
       "    </tr>\n",
       "  </thead>\n",
       "  <tbody>\n",
       "    <tr>\n",
       "      <th>0</th>\n",
       "      <td>12346</td>\n",
       "      <td>23166</td>\n",
       "      <td>1</td>\n",
       "    </tr>\n",
       "    <tr>\n",
       "      <th>1</th>\n",
       "      <td>12347</td>\n",
       "      <td>16008</td>\n",
       "      <td>1</td>\n",
       "    </tr>\n",
       "    <tr>\n",
       "      <th>2</th>\n",
       "      <td>12347</td>\n",
       "      <td>17021</td>\n",
       "      <td>1</td>\n",
       "    </tr>\n",
       "    <tr>\n",
       "      <th>3</th>\n",
       "      <td>12347</td>\n",
       "      <td>20665</td>\n",
       "      <td>1</td>\n",
       "    </tr>\n",
       "    <tr>\n",
       "      <th>4</th>\n",
       "      <td>12347</td>\n",
       "      <td>20719</td>\n",
       "      <td>3</td>\n",
       "    </tr>\n",
       "  </tbody>\n",
       "</table>\n",
       "</div>"
      ],
      "text/plain": [
       "  CustomerID StockCode  InvoiceNo\n",
       "0      12346     23166          1\n",
       "1      12347     16008          1\n",
       "2      12347     17021          1\n",
       "3      12347     20665          1\n",
       "4      12347     20719          3"
      ]
     },
     "execution_count": 36,
     "metadata": {},
     "output_type": "execute_result"
    }
   ],
   "source": [
    "# Rating 데이터를 생성하기 위한 탐색 : 유저-상품간 구매 횟수를 탐색합니다.\n",
    "uir_df = df_year_round.groupby(['CustomerID', 'StockCode'])['InvoiceNo'].nunique().reset_index()\n",
    "uir_df.head()"
   ]
  },
  {
   "cell_type": "code",
   "execution_count": null,
   "metadata": {},
   "outputs": [
    {
     "data": {
      "text/plain": [
       "<matplotlib.axes._subplots.AxesSubplot at 0x259353f0860>"
      ]
     },
     "execution_count": 37,
     "metadata": {},
     "output_type": "execute_result"
    },
    {
     "data": {
      "image/png": "[encoded data removed]",
      "text/plain": [
       "<Figure size 432x288 with 1 Axes>"
      ]
     },
     "metadata": {
      "needs_background": "light"
     },
     "output_type": "display_data"
    }
   ],
   "source": [
    "# Rating(InvoiceNo) 피처의 분포를 탐색합니다.\n",
    "uir_df['InvoiceNo'].hist(bins=20, grid=False)"
   ]
  },
  {
   "cell_type": "code",
   "execution_count": null,
   "metadata": {},
   "outputs": [
    {
     "data": {
      "text/plain": [
       "<matplotlib.axes._subplots.AxesSubplot at 0x259361e30b8>"
      ]
     },
     "execution_count": 38,
     "metadata": {},
     "output_type": "execute_result"
    },
    {
     "data": {
      "image/png": "[encoded data removed]",
      "text/plain": [
       "<Figure size 432x288 with 1 Axes>"
      ]
     },
     "metadata": {
      "needs_background": "light"
     },
     "output_type": "display_data"
    }
   ],
   "source": [
    "# Rating(InvoiceNo) 피처를 log normalization 해준 뒤, 다시 분포를 탐색합니다.\n",
    "uir_df['InvoiceNo'].apply(lambda x: np.log10(x)+1).hist(bins=20, grid=False)"
   ]
  },
  {
   "cell_type": "code",
   "execution_count": null,
   "metadata": {},
   "outputs": [
    {
     "data": {
      "text/plain": [
       "<matplotlib.axes._subplots.AxesSubplot at 0x259352b5240>"
      ]
     },
     "execution_count": 39,
     "metadata": {},
     "output_type": "execute_result"
    },
    {
     "data": {
      "image/png": "[encoded data removed]",
      "text/plain": [
       "<Figure size 432x288 with 1 Axes>"
      ]
     },
     "metadata": {
      "needs_background": "light"
     },
     "output_type": "display_data"
    }
   ],
   "source": [
    "# 1~5 사이의 점수로 변환합니다.\n",
    "uir_df['Rating'] = uir_df['InvoiceNo'].apply(lambda x: np.log10(x)+1)\n",
    "uir_df['Rating'] = ((uir_df['Rating'] - uir_df['Rating'].min()) / \n",
    "                    (uir_df['Rating'].max() - uir_df['Rating'].min()) * 4) + 1\n",
    "uir_df['Rating'].hist(bins=20, grid=False)"
   ]
  },
  {
   "cell_type": "markdown",
   "metadata": {},
   "source": [
    "-----"
   ]
  },
  {
   "cell_type": "markdown",
   "metadata": {},
   "source": [
    "### [SVD 모델 학습하기]"
   ]
  },
  {
   "cell_type": "code",
   "execution_count": null,
   "metadata": {},
   "outputs": [
    {
     "data": {
      "text/html": [
       "<div>\n",
       "<style scoped>\n",
       "    .dataframe tbody tr th:only-of-type {\n",
       "        vertical-align: middle;\n",
       "    }\n",
       "\n",
       "    .dataframe tbody tr th {\n",
       "        vertical-align: top;\n",
       "    }\n",
       "\n",
       "    .dataframe thead th {\n",
       "        text-align: right;\n",
       "    }\n",
       "</style>\n",
       "<table border=\"1\" class=\"dataframe\">\n",
       "  <thead>\n",
       "    <tr style=\"text-align: right;\">\n",
       "      <th></th>\n",
       "      <th>CustomerID</th>\n",
       "      <th>StockCode</th>\n",
       "      <th>Rating</th>\n",
       "    </tr>\n",
       "  </thead>\n",
       "  <tbody>\n",
       "    <tr>\n",
       "      <th>0</th>\n",
       "      <td>12346</td>\n",
       "      <td>23166</td>\n",
       "      <td>1.000000</td>\n",
       "    </tr>\n",
       "    <tr>\n",
       "      <th>1</th>\n",
       "      <td>12347</td>\n",
       "      <td>16008</td>\n",
       "      <td>1.000000</td>\n",
       "    </tr>\n",
       "    <tr>\n",
       "      <th>2</th>\n",
       "      <td>12347</td>\n",
       "      <td>17021</td>\n",
       "      <td>1.000000</td>\n",
       "    </tr>\n",
       "    <tr>\n",
       "      <th>3</th>\n",
       "      <td>12347</td>\n",
       "      <td>20665</td>\n",
       "      <td>1.000000</td>\n",
       "    </tr>\n",
       "    <tr>\n",
       "      <th>4</th>\n",
       "      <td>12347</td>\n",
       "      <td>20719</td>\n",
       "      <td>2.048881</td>\n",
       "    </tr>\n",
       "  </tbody>\n",
       "</table>\n",
       "</div>"
      ],
      "text/plain": [
       "  CustomerID StockCode    Rating\n",
       "0      12346     23166  1.000000\n",
       "1      12347     16008  1.000000\n",
       "2      12347     17021  1.000000\n",
       "3      12347     20665  1.000000\n",
       "4      12347     20719  2.048881"
      ]
     },
     "execution_count": 40,
     "metadata": {},
     "output_type": "execute_result"
    }
   ],
   "source": [
    "# SVD 모델 학습을 위한 데이터셋을 생성합니다.\n",
    "uir_df = uir_df[['CustomerID', 'StockCode', 'Rating']]\n",
    "uir_df.head()"
   ]
  },
  {
   "cell_type": "code",
   "execution_count": null,
   "metadata": {},
   "outputs": [
    {
     "name": "stdout",
     "output_type": "stream",
     "text": [
      "training time of model: 32.46 seconds\n",
      "RMSE of test dataset in SVD model:\n",
      "RMSE: 0.3413\n"
     ]
    },
    {
     "data": {
      "text/plain": [
       "0.341349430290851"
      ]
     },
     "execution_count": 41,
     "metadata": {},
     "output_type": "execute_result"
    }
   ],
   "source": [
    "import time\n",
    "from surprise import SVD, Dataset, Reader, accuracy\n",
    "from surprise.model_selection import train_test_split\n",
    "\n",
    "# SVD 라이브러리를 사용하기 위한 학습 데이터를 생성합니다. 대략적인 성능을 알아보기 위해 학습 데이터와 테스트 데이터를 8:2로 분할합니다.\n",
    "reader = Reader(rating_scale=(1, 5))\n",
    "data = Dataset.load_from_df(uir_df[['CustomerID', 'StockCode', 'Rating']], reader)\n",
    "train_data, test_data = train_test_split(data, test_size=0.2)\n",
    "\n",
    "# SVD 모델을 학습합니다.\n",
    "train_start = time.time()\n",
    "model = SVD(n_factors=8,\n",
    "            lr_all=0.005,\n",
    "            reg_all=0.02,\n",
    "            n_epochs=200)\n",
    "model.fit(train_data)\n",
    "train_end = time.time()\n",
    "print(\"training time of model: %.2f seconds\" % (train_end - train_start))\n",
    "\n",
    "predictions = model.test(test_data)\n",
    "\n",
    "# 테스트 데이터의 RMSE를 출력하여 모델의 성능을 평가합니다.\n",
    "print(\"RMSE of test dataset in SVD model:\")\n",
    "accuracy.rmse(predictions)"
   ]
  },
  {
   "cell_type": "code",
   "execution_count": null,
   "metadata": {},
   "outputs": [],
   "source": [
    "# SVD 라이브러리를 사용하기 위한 학습 데이터를 생성합니다. 11월 이전 전체를 full trainset으로 활용합니다.\n",
    "reader = Reader(rating_scale=(1, 5))\n",
    "data = Dataset.load_from_df(uir_df[['CustomerID', 'StockCode', 'Rating']], reader)\n",
    "train_data = data.build_full_trainset()\n",
    "\n",
    "# SVD 모델을 학습합니다.\n",
    "train_start = time.time()\n",
    "model = SVD(n_factors=8,\n",
    "            lr_all=0.005,\n",
    "            reg_all=0.02,\n",
    "            n_epochs=200)\n",
    "model.fit(train_data)\n",
    "train_end = time.time()\n",
    "print(\"training time of model: %.2f seconds\" % (train_end - train_start))"
   ]
  },
  {
   "cell_type": "markdown",
   "metadata": {},
   "source": [
    "-----"
   ]
  },
  {
   "cell_type": "markdown",
   "metadata": {},
   "source": [
    "# <Step3. 예측 평가하기> : 상품 추천 시뮬레이션"
   ]
  },
  {
   "cell_type": "markdown",
   "metadata": {},
   "source": [
    "### [상품 추천 시뮬레이션]"
   ]
  },
  {
   "cell_type": "code",
   "execution_count": null,
   "metadata": {},
   "outputs": [],
   "source": [
    "\"\"\"\n",
    "11월 이전 데이터에서 유저-상품에 대한 Rating을 기반으로 추천 상품을 선정합니다.\n",
    "\n",
    "1. 이전에 구매하지 않았던 상품 추천 : anti_build_testset()을 사용합니다.\n",
    "2. 이전에 구매했던 상품 다시 추천 : build_testset()을 사용합니다.\n",
    "3. 모든 상품을 대상으로 하여 상품 추천\n",
    "\"\"\"\n",
    "\n",
    "# 이전에 구매하지 않았던 상품을 예측의 대상으로 선정합니다.\n",
    "test_data = train_data.build_anti_testset()\n",
    "target_user_predictions = model.test(test_data)\n",
    "\n",
    "# 구매 예측 결과를 딕셔너리 형태로 변환합니다.\n",
    "new_order_prediction_dict = {}\n",
    "for customer_id, stock_code, _, predicted_rating, _ in target_user_predictions:\n",
    "    if customer_id in new_order_prediction_dict:\n",
    "        if stock_code in new_order_prediction_dict[customer_id]:\n",
    "            pass\n",
    "        else:\n",
    "            new_order_prediction_dict[customer_id][stock_code] = predicted_rating\n",
    "    else:\n",
    "        new_order_prediction_dict[customer_id] = {}\n",
    "        new_order_prediction_dict[customer_id][stock_code] = predicted_rating\n",
    "\n",
    "print(str(new_order_prediction_dict)[:300] + \"...\")"
   ]
  },
  {
   "cell_type": "code",
   "execution_count": null,
   "metadata": {},
   "outputs": [],
   "source": [
    "# 이전에 구매했었던 상품을 예측의 대상으로 선정합니다.\n",
    "test_data = train_data.build_testset()\n",
    "target_user_predictions = model.test(test_data)\n",
    "\n",
    "# 구매 예측 결과를 딕셔너리 형태로 변환합니다.\n",
    "reorder_prediction_dict = {}\n",
    "for customer_id, stock_code, _, predicted_rating, _ in target_user_predictions:\n",
    "    if customer_id in reorder_prediction_dict:\n",
    "        if stock_code in reorder_prediction_dict[customer_id]:\n",
    "            pass\n",
    "        else:\n",
    "            reorder_prediction_dict[customer_id][stock_code] = predicted_rating\n",
    "    else:\n",
    "        reorder_prediction_dict[customer_id] = {}\n",
    "        reorder_prediction_dict[customer_id][stock_code] = predicted_rating\n",
    "        \n",
    "print(str(reorder_prediction_dict)[:300] + \"...\")"
   ]
  },
  {
   "cell_type": "code",
   "execution_count": null,
   "metadata": {},
   "outputs": [],
   "source": [
    "# 두 딕셔너리를 하나로 통합합니다.\n",
    "total_prediction_dict = {}\n",
    "\n",
    "# new_order_prediction_dict 정보를 새로운 딕셔너리에 저장합니다.\n",
    "for customer_id in new_order_prediction_dict:\n",
    "    if customer_id not in total_prediction_dict:\n",
    "        total_prediction_dict[customer_id] = {}\n",
    "    for stock_code, predicted_rating in new_order_prediction_dict[customer_id].items():\n",
    "        if stock_code not in total_prediction_dict[customer_id]:\n",
    "            total_prediction_dict[customer_id][stock_code] = predicted_rating\n",
    "            \n",
    "# reorder_prediction_dict 정보를 새로운 딕셔너리에 저장합니다.\n",
    "for customer_id in reorder_prediction_dict:\n",
    "    if customer_id not in total_prediction_dict:\n",
    "        total_prediction_dict[customer_id] = {}\n",
    "    for stock_code, predicted_rating in reorder_prediction_dict[customer_id].items():\n",
    "        if stock_code not in total_prediction_dict[customer_id]:\n",
    "            total_prediction_dict[customer_id][stock_code] = predicted_rating\n",
    "            \n",
    "print(str(total_prediction_dict)[:300] + \"...\")"
   ]
  },
  {
   "cell_type": "code",
   "execution_count": null,
   "metadata": {},
   "outputs": [],
   "source": [
    "# 11월 이후의 데이터를 테스트 데이터셋으로 사용하기 위한 데이터프레임을 생성합니다.\n",
    "simulation_test_df = df_year_end.groupby('CustomerID')['StockCode'].apply(set).reset_index()\n",
    "simulation_test_df.columns = ['CustomerID', 'RealOrdered']\n",
    "simulation_test_df.head()"
   ]
  },
  {
   "cell_type": "code",
   "execution_count": null,
   "metadata": {},
   "outputs": [],
   "source": [
    "# 이 데이터프레임에 상품 추천 시뮬레이션 결과를 추가하기 위한 함수를 정의합니다.\n",
    "def add_predicted_stock_set(customer_id, prediction_dict):\n",
    "    if customer_id in prediction_dict:\n",
    "        predicted_stock_dict = prediction_dict[customer_id]\n",
    "        # 예측된 상품의 Rating이 높은 순으로 정렬합니다.\n",
    "        sorted_stocks = sorted(predicted_stock_dict, key=lambda x : predicted_stock_dict[x], reverse=True)\n",
    "        return sorted_stocks\n",
    "    else:\n",
    "        return None\n",
    "\n",
    "# 상품 추천 시뮬레이션 결과를 추가합니다.\n",
    "simulation_test_df['PredictedOrder(New)'] = simulation_test_df['CustomerID']. \\\n",
    "                                            apply(lambda x: add_predicted_stock_set(x, new_order_prediction_dict))\n",
    "simulation_test_df['PredictedOrder(Reorder)'] = simulation_test_df['CustomerID']. \\\n",
    "                                            apply(lambda x: add_predicted_stock_set(x, reorder_prediction_dict))\n",
    "simulation_test_df['PredictedOrder(Total)'] = simulation_test_df['CustomerID']. \\\n",
    "                                            apply(lambda x: add_predicted_stock_set(x, total_prediction_dict))\n",
    "simulation_test_df.head()"
   ]
  },
  {
   "cell_type": "markdown",
   "metadata": {},
   "source": [
    "-----"
   ]
  },
  {
   "cell_type": "markdown",
   "metadata": {},
   "source": [
    "### [상품 추천 평가하기]"
   ]
  },
  {
   "cell_type": "markdown",
   "metadata": {},
   "source": [
    "##### 평가 기준 정의하기"
   ]
  },
  {
   "cell_type": "code",
   "execution_count": null,
   "metadata": {},
   "outputs": [],
   "source": [
    "# 구매 예측의 상위 k개의 recall(재현율)을 평가 기준으로 정의합니다.\n",
    "def calculate_recall(real_order, predicted_order, k):\n",
    "    # 만약 추천 대상 상품이 없다면, 11월 이후에 상품을 처음 구매하는 유저입니다.\n",
    "    if predicted_order is None:\n",
    "        return None\n",
    "    \n",
    "    # SVD 모델에서 현재 유저의 Rating이 높은 상위 k개의 상품을 \"구매 할 것으로 예측\"합니다.\n",
    "    predicted = predicted_order[:k]\n",
    "    true_positive = 0\n",
    "    for stock_code in predicted:\n",
    "        if stock_code in real_order:\n",
    "            true_positive += 1\n",
    "    \n",
    "    # 예측한 상품 중, 실제로 유저가 구매한 상품의 비율(recall)을 계산합니다.\n",
    "    recall = true_positive / len(predicted)\n",
    "    return recall\n",
    "\n",
    "# 시뮬레이션 대상 유저에게 상품을 추천해준 결과를 평가합니다.\n",
    "simulation_test_df['top_k_recall(Reorder)'] = simulation_test_df. \\\n",
    "                                                apply(lambda x: calculate_recall(x['RealOrdered'], \n",
    "                                                                                 x['PredictedOrder(Reorder)'], \n",
    "                                                                                 5), axis=1)\n",
    "simulation_test_df['top_k_recall(New)'] = simulation_test_df. \\\n",
    "                                                apply(lambda x: calculate_recall(x['RealOrdered'], \n",
    "                                                                                 x['PredictedOrder(New)'], \n",
    "                                                                                 5), axis=1)\n",
    "simulation_test_df['top_k_recall(Total)'] = simulation_test_df. \\\n",
    "                                                apply(lambda x: calculate_recall(x['RealOrdered'], \n",
    "                                                                                 x['PredictedOrder(Total)'], \n",
    "                                                                                 5), axis=1)"
   ]
  },
  {
   "cell_type": "code",
   "execution_count": null,
   "metadata": {},
   "outputs": [],
   "source": [
    "# 평가 결과를 유저 평균으로 살펴봅니다.\n",
    "print(simulation_test_df['top_k_recall(Reorder)'].mean())\n",
    "print(simulation_test_df['top_k_recall(New)'].mean())\n",
    "print(simulation_test_df['top_k_recall(Total)'].mean())"
   ]
  },
  {
   "cell_type": "code",
   "execution_count": null,
   "metadata": {},
   "outputs": [],
   "source": [
    "# 평가 결과를 점수 기준으로 살펴봅니다.\n",
    "simulation_test_df['top_k_recall(Reorder)'].value_counts()"
   ]
  },
  {
   "cell_type": "code",
   "execution_count": null,
   "metadata": {},
   "outputs": [],
   "source": [
    "# 평가 결과를 점수 기준으로 살펴봅니다.\n",
    "simulation_test_df['top_k_recall(New)'].value_counts()"
   ]
  },
  {
   "cell_type": "code",
   "execution_count": null,
   "metadata": {},
   "outputs": [],
   "source": [
    "# 평가 결과를 점수 기준으로 살펴봅니다.\n",
    "simulation_test_df['top_k_recall(Total)'].value_counts()"
   ]
  },
  {
   "cell_type": "code",
   "execution_count": null,
   "metadata": {},
   "outputs": [],
   "source": [
    "# SVD 모델의 추천기준에 부합하지 않는 유저를 추출합니다.\n",
    "not_recommended_df = simulation_test_df[simulation_test_df['PredictedOrder(Reorder)'].isnull()]\n",
    "print(not_recommended_df.shape)\n",
    "not_recommended_df.head()"
   ]
  },
  {
   "cell_type": "markdown",
   "metadata": {},
   "source": [
    "-----"
   ]
  },
  {
   "cell_type": "markdown",
   "metadata": {},
   "source": [
    "##### 시뮬레이션 결과 살펴보기"
   ]
  },
  {
   "cell_type": "code",
   "execution_count": null,
   "metadata": {},
   "outputs": [],
   "source": [
    "# 추천 시뮬레이션 결과를 살펴봅니다.\n",
    "k = 5\n",
    "result_df = simulation_test_df[simulation_test_df['PredictedOrder(Reorder)'].notnull()]\n",
    "result_df['PredictedOrder(Reorder)'] = result_df['PredictedOrder(Reorder)'].\\\n",
    "                                                        apply(lambda x: x[:k])\n",
    "result_df = result_df[['CustomerID', 'RealOrdered', \n",
    "                       'PredictedOrder(Reorder)', 'top_k_recall(Reorder)']]\n",
    "result_df.columns = [['구매자ID', '실제주문', '5개추천결과', 'Top5추천_주문재현도']]\n",
    "result_df.sample(5).head()"
   ]
  }
 ],
 "metadata": {
  "kernelspec": {
   "display_name": "Python 3",
   "language": "python",
   "name": "python3"
  },
  "language_info": {
   "codemirror_mode": {
    "name": "ipython",
    "version": 3
   },
   "file_extension": ".py",
   "mimetype": "text/x-python",
   "name": "python",
   "nbconvert_exporter": "python",
   "pygments_lexer": "ipython3",
   "version": "3.7.1"
  }
 },
 "nbformat": 4,
 "nbformat_minor": 2
}
