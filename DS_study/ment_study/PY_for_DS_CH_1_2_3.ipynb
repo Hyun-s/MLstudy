{
 "cells": [
  {
   "cell_type": "code",
   "execution_count": 24,
   "id": "b5bdc662",
   "metadata": {},
   "outputs": [
    {
     "data": {
      "text/plain": [
       "'3.8.8 (default, Apr 13 2021, 15:08:03) [MSC v.1916 64 bit (AMD64)]'"
      ]
     },
     "execution_count": 24,
     "metadata": {},
     "output_type": "execute_result"
    }
   ],
   "source": [
    "import sys\n",
    "sys.version"
   ]
  },
  {
   "cell_type": "markdown",
   "id": "f719a347",
   "metadata": {},
   "source": [
    "# CH_2"
   ]
  },
  {
   "cell_type": "markdown",
   "id": "8a1ce070",
   "metadata": {},
   "source": [
    "## 연습 문제 1"
   ]
  },
  {
   "cell_type": "code",
   "execution_count": 51,
   "id": "d232b43a",
   "metadata": {},
   "outputs": [
    {
     "name": "stdout",
     "output_type": "stream",
     "text": [
      "True False\n"
     ]
    }
   ],
   "source": [
    "a = 777\n",
    "b = 777\n",
    "print(a==b,a is b) # True, False 주소값 차이"
   ]
  },
  {
   "cell_type": "code",
   "execution_count": 52,
   "id": "7c561c69",
   "metadata": {},
   "outputs": [
    {
     "name": "stdout",
     "output_type": "stream",
     "text": [
      "1280662717872 1280662718640\n"
     ]
    }
   ],
   "source": [
    "print(id(a), id(b))"
   ]
  },
  {
   "cell_type": "markdown",
   "id": "93e33ca6",
   "metadata": {},
   "source": [
    "## 연습 문제 2"
   ]
  },
  {
   "cell_type": "code",
   "execution_count": 53,
   "id": "d6c14147",
   "metadata": {},
   "outputs": [
    {
     "name": "stdout",
     "output_type": "stream",
     "text": [
      "[1, 2, 3, 4]\n",
      "[1, 3, 4]\n"
     ]
    }
   ],
   "source": [
    "tmp = [1,2,3,4]\n",
    "print(tmp)\n",
    "del tmp[1]\n",
    "print(tmp)"
   ]
  },
  {
   "cell_type": "markdown",
   "id": "d2b59478",
   "metadata": {},
   "source": [
    "## 연습 문제 3"
   ]
  },
  {
   "cell_type": "code",
   "execution_count": 54,
   "id": "816f592a",
   "metadata": {},
   "outputs": [
    {
     "name": "stdout",
     "output_type": "stream",
     "text": [
      "7.0\n"
     ]
    }
   ],
   "source": [
    "a = 3.5\n",
    "b = int(3.5)\n",
    "print(a**(a//b)*2) # 3.5 * 1 * 2"
   ]
  },
  {
   "cell_type": "code",
   "execution_count": 15,
   "id": "53cf88f9",
   "metadata": {},
   "outputs": [
    {
     "name": "stdout",
     "output_type": "stream",
     "text": [
      "0.0\n"
     ]
    }
   ],
   "source": [
    "print(((a-b)*a)//b)  # 0.5*3.5/3 = 0"
   ]
  },
  {
   "cell_type": "code",
   "execution_count": 18,
   "id": "a1bf141b",
   "metadata": {},
   "outputs": [
    {
     "name": "stdout",
     "output_type": "stream",
     "text": [
      "0.875\n"
     ]
    }
   ],
   "source": [
    "b= (((a-b)*a)%b)\n",
    "print(b)"
   ]
  },
  {
   "cell_type": "code",
   "execution_count": 20,
   "id": "33657ee1",
   "metadata": {},
   "outputs": [
    {
     "name": "stdout",
     "output_type": "stream",
     "text": [
      "0.0\n"
     ]
    }
   ],
   "source": [
    "print((a*4)%(b*4))"
   ]
  },
  {
   "cell_type": "markdown",
   "id": "5bccba53",
   "metadata": {},
   "source": [
    "## 연습 문제 4\n",
    "input return string"
   ]
  },
  {
   "cell_type": "code",
   "execution_count": 30,
   "id": "8d97bd03",
   "metadata": {},
   "outputs": [
    {
     "name": "stdout",
     "output_type": "stream",
     "text": [
      "섭씨온도를 입력하세요 :3\n",
      "섭씨 온도:  3.0 화씨 온도:  37.4\n"
     ]
    }
   ],
   "source": [
    "celsius = float(input(\"섭씨온도를 입력하세요 :\"))\n",
    "fahrenheit = ((9/5)*celsius) + 32\n",
    "print(\"섭씨 온도: \",celsius,\"화씨 온도: \",fahrenheit)"
   ]
  },
  {
   "cell_type": "markdown",
   "id": "df447496",
   "metadata": {},
   "source": [
    "## 연습 문제 5"
   ]
  },
  {
   "cell_type": "code",
   "execution_count": 55,
   "id": "bc845d4b",
   "metadata": {},
   "outputs": [
    {
     "data": {
      "text/plain": [
       "str"
      ]
     },
     "execution_count": 55,
     "metadata": {},
     "output_type": "execute_result"
    }
   ],
   "source": [
    "a = \"True\"\n",
    "type(a)  # string"
   ]
  },
  {
   "cell_type": "markdown",
   "id": "a99def3b",
   "metadata": {},
   "source": [
    "## 연습 문제 6"
   ]
  },
  {
   "cell_type": "code",
   "execution_count": 56,
   "id": "5506efb5",
   "metadata": {},
   "outputs": [
    {
     "name": "stdout",
     "output_type": "stream",
     "text": [
      "111.3\n"
     ]
    },
    {
     "data": {
      "text/plain": [
       "float"
      ]
     },
     "execution_count": 56,
     "metadata": {},
     "output_type": "execute_result"
    }
   ],
   "source": [
    "a = 10.6\n",
    "b = 10.5\n",
    "print(a * b)\n",
    "type(a+b)"
   ]
  },
  {
   "cell_type": "markdown",
   "id": "b87eb4c7",
   "metadata": {},
   "source": [
    "## 연습 문제 7\n",
    "ans = 4"
   ]
  },
  {
   "cell_type": "markdown",
   "id": "4ca97a17",
   "metadata": {},
   "source": [
    "## 연습 문제 8\n",
    "string + string == stringstring  \n",
    "string * int =for (int) string~~~"
   ]
  },
  {
   "cell_type": "code",
   "execution_count": 34,
   "id": "148440ad",
   "metadata": {},
   "outputs": [
    {
     "name": "stdout",
     "output_type": "stream",
     "text": [
      "3.53.53.53.5\n"
     ]
    }
   ],
   "source": [
    "a = \"3.5\"\n",
    "b = 4\n",
    "print(a*b) # 3.53.53.53.5"
   ]
  },
  {
   "cell_type": "markdown",
   "id": "a39a9cfd",
   "metadata": {},
   "source": [
    "## 연습 문제 9"
   ]
  },
  {
   "cell_type": "code",
   "execution_count": 35,
   "id": "aadb871a",
   "metadata": {},
   "outputs": [
    {
     "name": "stdout",
     "output_type": "stream",
     "text": [
      "3.51.5\n"
     ]
    }
   ],
   "source": [
    "a = \"3.5\"\n",
    "b = \"1.5\"\n",
    "print(a+b) # 3.51.5"
   ]
  },
  {
   "cell_type": "markdown",
   "id": "a8bc9333",
   "metadata": {},
   "source": [
    "## 연습 문제 10"
   ]
  },
  {
   "cell_type": "code",
   "execution_count": 36,
   "id": "963ebcba",
   "metadata": {},
   "outputs": [
    {
     "name": "stdout",
     "output_type": "stream",
     "text": [
      "27.0\n"
     ]
    }
   ],
   "source": [
    "a = '3'\n",
    "b = float(a)\n",
    "print(b ** int(a))  # int -> float 자동형변환"
   ]
  },
  {
   "cell_type": "markdown",
   "id": "bf04c208",
   "metadata": {},
   "source": [
    "## 연습 문제 11  \n",
    "ans = 3"
   ]
  },
  {
   "cell_type": "markdown",
   "id": "d94edeb7",
   "metadata": {},
   "source": [
    "## 연습 문제 12"
   ]
  },
  {
   "cell_type": "code",
   "execution_count": 38,
   "id": "295ea8f9",
   "metadata": {},
   "outputs": [
    {
     "ename": "TypeError",
     "evalue": "unsupported operand type(s) for /: 'str' and 'str'",
     "output_type": "error",
     "traceback": [
      "\u001b[1;31m---------------------------------------------------------------------------\u001b[0m",
      "\u001b[1;31mTypeError\u001b[0m                                 Traceback (most recent call last)",
      "\u001b[1;32m<ipython-input-38-bd8994071693>\u001b[0m in \u001b[0;36m<module>\u001b[1;34m\u001b[0m\n\u001b[0;32m      1\u001b[0m \u001b[0ma\u001b[0m \u001b[1;33m=\u001b[0m \u001b[1;34m'20'\u001b[0m\u001b[1;33m\u001b[0m\u001b[1;33m\u001b[0m\u001b[0m\n\u001b[0;32m      2\u001b[0m \u001b[0mb\u001b[0m \u001b[1;33m=\u001b[0m \u001b[1;34m'4'\u001b[0m\u001b[1;33m\u001b[0m\u001b[1;33m\u001b[0m\u001b[0m\n\u001b[1;32m----> 3\u001b[1;33m \u001b[0mprint\u001b[0m\u001b[1;33m(\u001b[0m\u001b[0mtype\u001b[0m\u001b[1;33m(\u001b[0m\u001b[0mfloat\u001b[0m\u001b[1;33m(\u001b[0m\u001b[0ma\u001b[0m\u001b[1;33m/\u001b[0m\u001b[0mb\u001b[0m\u001b[1;33m)\u001b[0m\u001b[1;33m)\u001b[0m\u001b[1;33m)\u001b[0m\u001b[1;33m\u001b[0m\u001b[1;33m\u001b[0m\u001b[0m\n\u001b[0m",
      "\u001b[1;31mTypeError\u001b[0m: unsupported operand type(s) for /: 'str' and 'str'"
     ]
    }
   ],
   "source": [
    "a = '20'\n",
    "b = '4'\n",
    "print(type(float(a/b))) # str/str X"
   ]
  },
  {
   "cell_type": "markdown",
   "id": "d28e0ee6",
   "metadata": {},
   "source": [
    "## 연습 문제 13"
   ]
  },
  {
   "cell_type": "code",
   "execution_count": 44,
   "id": "4b91da28",
   "metadata": {},
   "outputs": [
    {
     "name": "stdout",
     "output_type": "stream",
     "text": [
      "Gachon CS 50\n"
     ]
    }
   ],
   "source": [
    "a = \"Gachon\"\n",
    "b = \"CS\"\n",
    "c = 200\n",
    "c = int(c/4)\n",
    "print(a,b,c)"
   ]
  },
  {
   "cell_type": "markdown",
   "id": "98e3897a",
   "metadata": {},
   "source": [
    "## 연습 문제 14  \n",
    "변수 자료형을 동적으로 할당 (컴파일 시점에)"
   ]
  },
  {
   "cell_type": "markdown",
   "id": "0bb00585",
   "metadata": {},
   "source": [
    "## 연습 문제 15"
   ]
  },
  {
   "cell_type": "code",
   "execution_count": 50,
   "id": "683da6da",
   "metadata": {},
   "outputs": [
    {
     "name": "stdout",
     "output_type": "stream",
     "text": [
      "(가): 1.01.01.01.01.0\n",
      "err\n",
      "(다): HanbitPython\n",
      "(라): 3.50.5\n"
     ]
    }
   ],
   "source": [
    "print(\"(가):\",(\"1.0\"*5))\n",
    "try:\n",
    "    print(\"(나):\",(\"1.0\"+2)) # Err\n",
    "except:\n",
    "    print(\"err\")\n",
    "print(\"(다):\",(\"Hanbit\" + \"Python\"))\n",
    "print(\"(라):\",(\"3.5\"+\"0.5\"))"
   ]
  },
  {
   "cell_type": "markdown",
   "id": "3e9a5bee",
   "metadata": {},
   "source": [
    "## 연습 문제 16\n",
    "ans = 2"
   ]
  },
  {
   "cell_type": "markdown",
   "id": "187455b7",
   "metadata": {},
   "source": [
    "# CH_3"
   ]
  },
  {
   "cell_type": "markdown",
   "id": "8ef393d3",
   "metadata": {},
   "source": [
    "## 연습 문제 1"
   ]
  },
  {
   "cell_type": "code",
   "execution_count": 58,
   "id": "b9f4a21f",
   "metadata": {},
   "outputs": [
    {
     "name": "stdout",
     "output_type": "stream",
     "text": [
      "[0, 1, 2] [0, 1]\n"
     ]
    }
   ],
   "source": [
    "a = [0,1,2,3,4]\n",
    "print(a[:3],a[:-3])"
   ]
  },
  {
   "cell_type": "markdown",
   "id": "0a1832a9",
   "metadata": {},
   "source": [
    "## 연습 문제 2"
   ]
  },
  {
   "cell_type": "code",
   "execution_count": 60,
   "id": "a34c72ee",
   "metadata": {},
   "outputs": [
    {
     "name": "stdout",
     "output_type": "stream",
     "text": [
      "[4, 3, 2, 1, 0]\n"
     ]
    }
   ],
   "source": [
    "a = [0,1,2,3,4]\n",
    "print(a[::-1])"
   ]
  },
  {
   "cell_type": "markdown",
   "id": "f90dd25d",
   "metadata": {},
   "source": [
    "## 연습 문제 3"
   ]
  },
  {
   "cell_type": "code",
   "execution_count": 62,
   "id": "04e261c5",
   "metadata": {},
   "outputs": [
    {
     "name": "stdout",
     "output_type": "stream",
     "text": [
      "[['egg', 'salad', 'bread'], ['lamb', 'chicken'], ['apple']]\n"
     ]
    }
   ],
   "source": [
    "first = [\"egg\", \"salad\", \"bread\", \"soup\",\"canafe\"]\n",
    "second = [\"fish\",\"lamb\",\"pork\",\"beef\",\"chicken\"]\n",
    "third = [\"apple\",\"banana\",\"orange\",\"grape\",\"mango\"]\n",
    "\n",
    "order = [first,second,third]\n",
    "john = [order[0][:-2],second[1::3],third[0]]\n",
    "del john[2]\n",
    "john.extend([order[2][0:1]]) # list말고 나눠져서 들어감\n",
    "print(john)"
   ]
  },
  {
   "cell_type": "markdown",
   "id": "fd72c902",
   "metadata": {},
   "source": [
    "## 연습 문제 4"
   ]
  },
  {
   "cell_type": "code",
   "execution_count": 65,
   "id": "f2eb8ebb",
   "metadata": {},
   "outputs": [
    {
     "name": "stdout",
     "output_type": "stream",
     "text": [
      "[1, 2, 3, 4] None\n"
     ]
    }
   ],
   "source": [
    "list_a = [3,2,1,4]\n",
    "list_b = list_a.sort() # list.sort not return\n",
    "print(list_a,list_b)"
   ]
  },
  {
   "cell_type": "markdown",
   "id": "4e648c24",
   "metadata": {},
   "source": [
    "## 연습 문제 5"
   ]
  },
  {
   "cell_type": "code",
   "execution_count": 66,
   "id": "dfdf6b24",
   "metadata": {},
   "outputs": [
    {
     "name": "stdout",
     "output_type": "stream",
     "text": [
      "None\n"
     ]
    }
   ],
   "source": [
    "a = [5,7,3]\n",
    "b = [3,9,1]\n",
    "c = a+b\n",
    "c = c.sort()\n",
    "print(c)"
   ]
  },
  {
   "cell_type": "markdown",
   "id": "afc0d4f5",
   "metadata": {},
   "source": [
    "## 연습 문제 6\n",
    "ans =5"
   ]
  },
  {
   "cell_type": "markdown",
   "id": "30612bea",
   "metadata": {},
   "source": [
    "## 연습 문제 7"
   ]
  },
  {
   "cell_type": "code",
   "execution_count": 67,
   "id": "08c2b215",
   "metadata": {},
   "outputs": [
    {
     "name": "stdout",
     "output_type": "stream",
     "text": [
      "['orange', 'strawberry', 'melon'] ['banana', 'orange']\n"
     ]
    }
   ],
   "source": [
    "fruits = ['apple','banana','cherry','grape','orange','strawberry','melon']\n",
    "print(fruits[-3:],fruits[1::3])"
   ]
  },
  {
   "cell_type": "markdown",
   "id": "1bd18be9",
   "metadata": {},
   "source": [
    "## 연습 문제 8"
   ]
  },
  {
   "cell_type": "code",
   "execution_count": 68,
   "id": "68053000",
   "metadata": {},
   "outputs": [
    {
     "name": "stdout",
     "output_type": "stream",
     "text": [
      "[1, 2, 3, 4, 1, 2, 3, 4]\n"
     ]
    }
   ],
   "source": [
    "num = [1,2,3,4]\n",
    "print(num*2)"
   ]
  },
  {
   "cell_type": "markdown",
   "id": "4fec9027",
   "metadata": {},
   "source": [
    "## 연습 문제 9"
   ]
  },
  {
   "cell_type": "code",
   "execution_count": 70,
   "id": "d53279b5",
   "metadata": {},
   "outputs": [
    {
     "name": "stdout",
     "output_type": "stream",
     "text": [
      "False 6\n"
     ]
    }
   ],
   "source": [
    "a = [1,2,3,5]\n",
    "b = ['a','b','c','d','e']\n",
    "\n",
    "a.append('g')\n",
    "b.append(6)\n",
    "print('g' in b, len(b))"
   ]
  },
  {
   "cell_type": "markdown",
   "id": "917df7ed",
   "metadata": {},
   "source": [
    "## 연습 문제 10"
   ]
  },
  {
   "cell_type": "code",
   "execution_count": 71,
   "id": "3cc9716f",
   "metadata": {},
   "outputs": [
    {
     "name": "stdout",
     "output_type": "stream",
     "text": [
      "['Hankook', 'is', 'academic', 'located', 'South Korea']\n"
     ]
    }
   ],
   "source": [
    "list_a = ['Hankook','University','is','an','academic','institute'\n",
    "         ,'located','in','South Korea']\n",
    "list_b =[]\n",
    "for i in range(len(list_a)):\n",
    "    if i%2 !=1:\n",
    "        list_b.append(list_a[i])\n",
    "print(list_b)"
   ]
  },
  {
   "cell_type": "markdown",
   "id": "1c75e067",
   "metadata": {},
   "source": [
    "## 연습 문제 11"
   ]
  },
  {
   "cell_type": "code",
   "execution_count": 74,
   "id": "5615e94b",
   "metadata": {},
   "outputs": [
    {
     "name": "stdout",
     "output_type": "stream",
     "text": [
      "입학 연도를 입력하세요\"2018\"\n",
      "<class 'str'>\n"
     ]
    }
   ],
   "source": [
    "admission_year = input(\"입학 연도를 입력하세요\")\n",
    "print(type(admission_year)) # 2018 str    \"2018\" str"
   ]
  },
  {
   "cell_type": "markdown",
   "id": "c83baa1b",
   "metadata": {},
   "source": [
    "## 연습 문제 12"
   ]
  },
  {
   "cell_type": "code",
   "execution_count": 78,
   "id": "7a16c647",
   "metadata": {},
   "outputs": [
    {
     "name": "stdout",
     "output_type": "stream",
     "text": [
      "['Korea', 'Japan', 'China', ['Seoul', [2, 3], 'Beijing']]\n"
     ]
    }
   ],
   "source": [
    "country = ['Korea','Japan','China']\n",
    "capital = ['Seoul','Tokyo','Beijing']\n",
    "index = [1,2,3]\n",
    "country.append(capital)\n",
    "country[3][1] = index[1:]\n",
    "print(country)"
   ]
  },
  {
   "cell_type": "markdown",
   "id": "ad35807b",
   "metadata": {},
   "source": [
    "## 연습 문제 13"
   ]
  },
  {
   "cell_type": "code",
   "execution_count": 79,
   "id": "ea0fab44",
   "metadata": {},
   "outputs": [
    {
     "name": "stdout",
     "output_type": "stream",
     "text": [
      "['Thu', 'Fri']\n"
     ]
    }
   ],
   "source": [
    "week1 = ['Mon', 'Tue', 'Wed']\n",
    "week2 = ['Thu', 'Fri', 'Sat', 'Sun']\n",
    "week3 = ['']\n",
    "print(week2[:len(week3) + 1])"
   ]
  },
  {
   "cell_type": "markdown",
   "id": "5977299d",
   "metadata": {},
   "source": [
    "## 연습 문제 14\n",
    "python은 -5 ~ 256 저장 "
   ]
  },
  {
   "cell_type": "code",
   "execution_count": 82,
   "id": "f1a635f4",
   "metadata": {},
   "outputs": [
    {
     "name": "stdout",
     "output_type": "stream",
     "text": [
      "True\n",
      "False\n"
     ]
    }
   ],
   "source": [
    "a = 1\n",
    "b = 1 \n",
    "print(a is b) # True\n",
    "\n",
    "a = 300\n",
    "b = 300\n",
    "print(a is b) # False"
   ]
  },
  {
   "cell_type": "markdown",
   "id": "aff008e8",
   "metadata": {},
   "source": [
    "## 연습 문제 15"
   ]
  },
  {
   "cell_type": "code",
   "execution_count": 85,
   "id": "67b9755f",
   "metadata": {},
   "outputs": [
    {
     "name": "stdout",
     "output_type": "stream",
     "text": [
      "True\n",
      "False\n"
     ]
    }
   ],
   "source": [
    "a = [5,4,3,2,1]\n",
    "b=a # 같은 메모리를 참조\n",
    "c = [5,4,3,2,1] # 다른 메모리에 c 생성\n",
    "print(a is b) # True\n",
    "print(a is c) # False"
   ]
  }
 ],
 "metadata": {
  "kernelspec": {
   "display_name": "Python 3",
   "language": "python",
   "name": "python3"
  },
  "language_info": {
   "codemirror_mode": {
    "name": "ipython",
    "version": 3
   },
   "file_extension": ".py",
   "mimetype": "text/x-python",
   "name": "python",
   "nbconvert_exporter": "python",
   "pygments_lexer": "ipython3",
   "version": "3.8.8"
  }
 },
 "nbformat": 4,
 "nbformat_minor": 5
}
